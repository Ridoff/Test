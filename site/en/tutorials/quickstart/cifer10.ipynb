{
  "cells": [
    {
      "cell_type": "markdown",
      "metadata": {
        "id": "rX8mhOLljYeM"
      },
      "source": [
        "##### Copyright 2019 The TensorFlow Authors."
      ]
    },
    {
      "cell_type": "code",
      "execution_count": null,
      "metadata": {
        "cellView": "form",
        "id": "BZSlp3DAjdYf"
      },
      "outputs": [],
      "source": [
        "#@title Licensed under the Apache License, Version 2.0 (the \"License\");\n",
        "# you may not use this file except in compliance with the License.\n",
        "# You may obtain a copy of the License at\n",
        "#\n",
        "# https://www.apache.org/licenses/LICENSE-2.0\n",
        "#\n",
        "# Unless required by applicable law or agreed to in writing, software\n",
        "# distributed under the License is distributed on an \"AS IS\" BASIS,\n",
        "# WITHOUT WARRANTIES OR CONDITIONS OF ANY KIND, either express or implied.\n",
        "# See the License for the specific language governing permissions and\n",
        "# limitations under the License."
      ]
    },
    {
      "cell_type": "markdown",
      "metadata": {
        "id": "3wF5wszaj97Y"
      },
      "source": [
        "CIFAR10"
      ]
    },
    {
      "cell_type": "markdown",
      "metadata": {
        "id": "DUNzJc4jTj6G"
      },
      "source": [
        "<table class=\"tfo-notebook-buttons\" align=\"left\">\n",
        "  <td>\n",
        "    <a target=\"_blank\" href=\"https://www.tensorflow.org/tutorials/quickstart/beginner\"><img src=\"https://www.tensorflow.org/images/tf_logo_32px.png\" />View on TensorFlow.org</a>\n",
        "  </td>\n",
        "  <td>\n",
        "    <a target=\"_blank\" href=\"https://colab.research.google.com/github/tensorflow/docs/blob/master/site/en/tutorials/quickstart/beginner.ipynb\"><img src=\"https://www.tensorflow.org/images/colab_logo_32px.png\" />Run in Google Colab</a>\n",
        "  </td>\n",
        "  <td>\n",
        "    <a target=\"_blank\" href=\"https://github.com/tensorflow/docs/blob/master/site/en/tutorials/quickstart/beginner.ipynb\"><img src=\"https://www.tensorflow.org/images/GitHub-Mark-32px.png\" />View source on GitHub</a>\n",
        "  </td>\n",
        "  <td>\n",
        "    <a href=\"https://storage.googleapis.com/tensorflow_docs/docs/site/en/tutorials/quickstart/beginner.ipynb\"><img src=\"https://www.tensorflow.org/images/download_logo_32px.png\" />Download notebook</a>\n",
        "  </td>\n",
        "</table>"
      ]
    },
    {
      "cell_type": "code",
      "source": [
        "import tensorflow as tf\n",
        "from tensorflow.keras import datasets, layers, models\n",
        "import matplotlib.pyplot as plt\n",
        "import numpy as np\n",
        "\n",
        "(x_train, y_train), (x_test, y_test) = datasets.cifar10.load_data()\n",
        "\n",
        "x_train, x_test = x_train / 255.0, x_test / 255.0\n",
        "y_train, y_test = y_train.flatten(), y_test.flatten()\n",
        "\n",
        "class_names = ['airplane', 'automobile', 'bird', 'cat', 'deer',\n",
        "               'dog', 'frog', 'horse', 'ship', 'truck']\n",
        "\n",
        "model = models.Sequential([\n",
        "    layers.Conv2D(32, (3,3), activation='relu', input_shape=(32,32,3)),\n",
        "    layers.MaxPooling2D((2,2)),\n",
        "    layers.Conv2D(64, (3,3), activation='relu'),\n",
        "    layers.MaxPooling2D((2,2)),\n",
        "    layers.Conv2D(64, (3,3), activation='relu'),\n",
        "    layers.Flatten(),\n",
        "    layers.Dense(64, activation='relu'),\n",
        "    layers.Dense(10, activation='softmax')\n",
        "])\n",
        "\n",
        "model.compile(optimizer='adam',\n",
        "              loss='sparse_categorical_crossentropy',\n",
        "              metrics=['accuracy'])\n",
        "\n",
        "model.fit(x_train, y_train, epochs=5,\n",
        "          validation_data=(x_test, y_test), verbose=2)\n",
        "\n",
        "test_loss, test_acc = model.evaluate(x_test, y_test, verbose=0)\n",
        "print(f\"\\nTest accuracy: {test_acc:.4f}\")\n",
        "\n",
        "index = int(input(\"Введите номер картинки (0-9999): \"))\n",
        "\n",
        "image = x_test[index]\n",
        "true_label = y_test[index]\n",
        "true_class = class_names[true_label]\n",
        "\n",
        "prediction = model.predict(np.expand_dims(image, axis=0))\n",
        "predicted_label = np.argmax(prediction)\n",
        "predicted_class = class_names[predicted_label]\n",
        "\n",
        "result = \"Correct\" if predicted_label == true_label else \"Error\"\n",
        "\n",
        "plt.imshow(image)\n",
        "plt.title(f\"Predicted: {predicted_class}\\nTrue: {true_class}\\nResult: {result}\")\n",
        "plt.axis('off')\n",
        "plt.show()\n"
      ],
      "metadata": {
        "colab": {
          "base_uri": "https://localhost:8080/",
          "height": 708
        },
        "id": "glCAQ1S9m0oI",
        "outputId": "b87eb2a4-5f56-47fd-e9f8-c7dcc6361dfe"
      },
      "execution_count": 8,
      "outputs": [
        {
          "output_type": "stream",
          "name": "stdout",
          "text": [
            "Epoch 1/5\n",
            "1563/1563 - 11s - 7ms/step - accuracy: 0.4593 - loss: 1.4934 - val_accuracy: 0.5635 - val_loss: 1.2319\n",
            "Epoch 2/5\n",
            "1563/1563 - 5s - 3ms/step - accuracy: 0.6029 - loss: 1.1289 - val_accuracy: 0.6165 - val_loss: 1.0847\n",
            "Epoch 3/5\n",
            "1563/1563 - 6s - 4ms/step - accuracy: 0.6559 - loss: 0.9808 - val_accuracy: 0.6451 - val_loss: 1.0060\n",
            "Epoch 4/5\n",
            "1563/1563 - 5s - 3ms/step - accuracy: 0.6909 - loss: 0.8824 - val_accuracy: 0.6883 - val_loss: 0.8928\n",
            "Epoch 5/5\n",
            "1563/1563 - 6s - 4ms/step - accuracy: 0.7171 - loss: 0.8111 - val_accuracy: 0.6859 - val_loss: 0.9066\n",
            "\n",
            "Test accuracy: 0.6859\n",
            "Введите номер картинки (0-9999): 20\n",
            "\u001b[1m1/1\u001b[0m \u001b[32m━━━━━━━━━━━━━━━━━━━━\u001b[0m\u001b[37m\u001b[0m \u001b[1m0s\u001b[0m 368ms/step\n"
          ]
        },
        {
          "output_type": "display_data",
          "data": {
            "text/plain": [
              "<Figure size 640x480 with 1 Axes>"
            ],
            "image/png": "[encoded data removed]"
          },
          "metadata": {}
        }
      ]
    },
    {
      "cell_type": "code",
      "source": [
        "import tensorflow as tf\n",
        "from tensorflow.keras import datasets, layers, models\n",
        "import matplotlib.pyplot as plt\n",
        "import numpy as np\n",
        "\n",
        "(x_train, y_train), (x_test, y_test) = datasets.cifar10.load_data()\n",
        "\n",
        "x_train, x_test = x_train / 255.0, x_test / 255.0\n",
        "y_train, y_test = y_train.flatten(), y_test.flatten()\n",
        "\n",
        "class_names = ['airplane', 'automobile', 'bird', 'cat', 'deer',\n",
        "               'dog', 'frog', 'horse', 'ship', 'truck']\n",
        "\n",
        "model = models.Sequential([\n",
        "    layers.Conv2D(32, (3,3), activation='relu', input_shape=(32,32,3)),\n",
        "    layers.MaxPooling2D((2,2)),\n",
        "    layers.Conv2D(64, (3,3), activation='relu'),\n",
        "    layers.MaxPooling2D((2,2)),\n",
        "    layers.Conv2D(64, (3,3), activation='relu'),\n",
        "    layers.Flatten(),\n",
        "    layers.Dense(64, activation='relu'),\n",
        "    layers.Dense(10, activation='softmax')\n",
        "])\n",
        "\n",
        "model.compile(optimizer='adam',\n",
        "              loss='sparse_categorical_crossentropy',\n",
        "              metrics=['accuracy'])\n",
        "\n",
        "model.fit(x_train, y_train, epochs=5,\n",
        "          validation_data=(x_test, y_test), verbose=2)\n",
        "\n",
        "test_loss, test_acc = model.evaluate(x_test, y_test, verbose=0)\n",
        "print(f\"\\nTest accuracy: {test_acc:.4f}\")\n",
        "\n",
        "index = int(input(\"Введите номер картинки (0-9999): \"))\n",
        "\n",
        "image = x_test[index]\n",
        "true_label = y_test[index]\n",
        "true_class = class_names[true_label]\n",
        "\n",
        "prediction = model.predict(np.expand_dims(image, axis=0))\n",
        "predicted_label = np.argmax(prediction)\n",
        "predicted_class = class_names[predicted_label]\n",
        "\n",
        "result = \"Correct\" if predicted_label == true_label else \"Error\"\n",
        "\n",
        "plt.imshow(image)\n",
        "plt.title(f\"Predicted: {predicted_class}\\nTrue: {true_class}\\nResult: {result}\")\n",
        "plt.axis('off')\n",
        "plt.show()\n"
      ],
      "metadata": {
        "colab": {
          "base_uri": "https://localhost:8080/",
          "height": 708
        },
        "outputId": "dedfc1d3-d6f4-4cea-d882-50e493c77f18",
        "id": "yZaoWAuorgZj"
      },
      "execution_count": 9,
      "outputs": [
        {
          "output_type": "stream",
          "name": "stdout",
          "text": [
            "Epoch 1/5\n",
            "1563/1563 - 11s - 7ms/step - accuracy: 0.4374 - loss: 1.5411 - val_accuracy: 0.5436 - val_loss: 1.2685\n",
            "Epoch 2/5\n",
            "1563/1563 - 6s - 4ms/step - accuracy: 0.5799 - loss: 1.1807 - val_accuracy: 0.5953 - val_loss: 1.1118\n",
            "Epoch 3/5\n",
            "1563/1563 - 5s - 3ms/step - accuracy: 0.6401 - loss: 1.0276 - val_accuracy: 0.6509 - val_loss: 0.9889\n",
            "Epoch 4/5\n",
            "1563/1563 - 6s - 4ms/step - accuracy: 0.6768 - loss: 0.9214 - val_accuracy: 0.6420 - val_loss: 1.0280\n",
            "Epoch 5/5\n",
            "1563/1563 - 5s - 3ms/step - accuracy: 0.7008 - loss: 0.8539 - val_accuracy: 0.6705 - val_loss: 0.9612\n",
            "\n",
            "Test accuracy: 0.6705\n",
            "Введите номер картинки (0-9999): 69\n",
            "\u001b[1m1/1\u001b[0m \u001b[32m━━━━━━━━━━━━━━━━━━━━\u001b[0m\u001b[37m\u001b[0m \u001b[1m0s\u001b[0m 370ms/step\n"
          ]
        },
        {
          "output_type": "display_data",
          "data": {
            "text/plain": [
              "<Figure size 640x480 with 1 Axes>"
            ],
            "image/png": "[encoded data removed]"
          },
          "metadata": {}
        }
      ]
    },
    {
      "cell_type": "code",
      "source": [
        "import tensorflow as tf\n",
        "from tensorflow.keras import datasets, layers, models\n",
        "import matplotlib.pyplot as plt\n",
        "import numpy as np\n",
        "\n",
        "(x_train, y_train), (x_test, y_test) = datasets.cifar10.load_data()\n",
        "\n",
        "x_train, x_test = x_train / 255.0, x_test / 255.0\n",
        "y_train, y_test = y_train.flatten(), y_test.flatten()\n",
        "\n",
        "class_names = ['airplane', 'automobile', 'bird', 'cat', 'deer',\n",
        "               'dog', 'frog', 'horse', 'ship', 'truck']\n",
        "\n",
        "model = models.Sequential([\n",
        "    layers.Conv2D(32, (3,3), activation='relu', input_shape=(32,32,3)),\n",
        "    layers.MaxPooling2D((2,2)),\n",
        "    layers.Conv2D(64, (3,3), activation='relu'),\n",
        "    layers.MaxPooling2D((2,2)),\n",
        "    layers.Conv2D(64, (3,3), activation='relu'),\n",
        "    layers.Flatten(),\n",
        "    layers.Dense(64, activation='relu'),\n",
        "    layers.Dense(10, activation='softmax')\n",
        "])\n",
        "\n",
        "model.compile(optimizer='adam',\n",
        "              loss='sparse_categorical_crossentropy',\n",
        "              metrics=['accuracy'])\n",
        "\n",
        "model.fit(x_train, y_train, epochs=5,\n",
        "          validation_data=(x_test, y_test), verbose=2)\n",
        "\n",
        "test_loss, test_acc = model.evaluate(x_test, y_test, verbose=0)\n",
        "print(f\"\\nTest accuracy: {test_acc:.4f}\")\n",
        "\n",
        "index = int(input(\"Введите номер картинки (0-9999): \"))\n",
        "\n",
        "image = x_test[index]\n",
        "true_label = y_test[index]\n",
        "true_class = class_names[true_label]\n",
        "\n",
        "prediction = model.predict(np.expand_dims(image, axis=0))\n",
        "predicted_label = np.argmax(prediction)\n",
        "predicted_class = class_names[predicted_label]\n",
        "\n",
        "result = \"Correct\" if predicted_label == true_label else \"Error\"\n",
        "\n",
        "plt.imshow(image)\n",
        "plt.title(f\"Predicted: {predicted_class}\\nTrue: {true_class}\\nResult: {result}\")\n",
        "plt.axis('off')\n",
        "plt.show()\n"
      ],
      "metadata": {
        "colab": {
          "base_uri": "https://localhost:8080/",
          "height": 745
        },
        "outputId": "fc8dcf95-817f-484e-d1f0-c13a5fd59ca8",
        "id": "MMnE6e_cryvA"
      },
      "execution_count": 10,
      "outputs": [
        {
          "name": "stdout",
          "output_type": "stream",
          "text": [
            "Epoch 1/5\n",
            "1563/1563 - 11s - 7ms/step - accuracy: 0.4417 - loss: 1.5293 - val_accuracy: 0.5443 - val_loss: 1.2647\n",
            "Epoch 2/5\n",
            "1563/1563 - 5s - 3ms/step - accuracy: 0.5896 - loss: 1.1570 - val_accuracy: 0.6166 - val_loss: 1.0923\n",
            "Epoch 3/5\n",
            "1563/1563 - 6s - 4ms/step - accuracy: 0.6412 - loss: 1.0143 - val_accuracy: 0.6480 - val_loss: 1.0052\n",
            "Epoch 4/5\n",
            "1563/1563 - 6s - 4ms/step - accuracy: 0.6780 - loss: 0.9128 - val_accuracy: 0.6681 - val_loss: 0.9531\n",
            "Epoch 5/5\n",
            "1563/1563 - 6s - 4ms/step - accuracy: 0.7025 - loss: 0.8445 - val_accuracy: 0.6868 - val_loss: 0.8928\n",
            "\n",
            "Test accuracy: 0.6868\n",
            "Введите номер картинки (0-9999): 1940\n"
          ]
        },
        {
          "output_type": "stream",
          "name": "stderr",
          "text": [
            "WARNING:tensorflow:5 out of the last 5 calls to <function TensorFlowTrainer.make_predict_function.<locals>.one_step_on_data_distributed at 0x784abe37fce0> triggered tf.function retracing. Tracing is expensive and the excessive number of tracings could be due to (1) creating @tf.function repeatedly in a loop, (2) passing tensors with different shapes, (3) passing Python objects instead of tensors. For (1), please define your @tf.function outside of the loop. For (2), @tf.function has reduce_retracing=True option that can avoid unnecessary retracing. For (3), please refer to https://www.tensorflow.org/guide/function#controlling_retracing and https://www.tensorflow.org/api_docs/python/tf/function for  more details.\n"
          ]
        },
        {
          "output_type": "stream",
          "name": "stdout",
          "text": [
            "\u001b[1m1/1\u001b[0m \u001b[32m━━━━━━━━━━━━━━━━━━━━\u001b[0m\u001b[37m\u001b[0m \u001b[1m0s\u001b[0m 372ms/step\n"
          ]
        },
        {
          "output_type": "display_data",
          "data": {
            "text/plain": [
              "<Figure size 640x480 with 1 Axes>"
            ],
            "image/png": "[encoded data removed]"
          },
          "metadata": {}
        }
      ]
    }
  ],
  "metadata": {
    "colab": {
      "name": "beginner.ipynb",
      "toc_visible": true,
      "provenance": [],
      "gpuType": "T4"
    },
    "kernelspec": {
      "display_name": "Python 3",
      "name": "python3"
    },
    "accelerator": "GPU"
  },
  "nbformat": 4,
  "nbformat_minor": 0
}